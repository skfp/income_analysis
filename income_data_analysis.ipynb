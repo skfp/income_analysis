{
 "cells": [
  {
   "cell_type": "markdown",
   "metadata": {},
   "source": [
    "# Analysis of adult census data\n",
    "\n",
    "In this notebook, I present some analysis of the adult census income date. More details on this dataset can be found here: https://www.kaggle.com/uciml/adult-census-income. The goal of the analysis is to compare different models, that predict if a person earns more than 50k (USD per year) or less. The models are built using different algorithms and different parameters."
   ]
  },
  {
   "cell_type": "markdown",
   "metadata": {},
   "source": [
    "## Importing libraries"
   ]
  },
  {
   "cell_type": "code",
   "execution_count": 167,
   "metadata": {},
   "outputs": [],
   "source": [
    "import numpy as np\n",
    "import scipy as sp\n",
    "import pandas as pd\n",
    "import matplotlib.pyplot as plt\n",
    "import itertools\n",
    "\n",
    "from sklearn.model_selection import train_test_split\n",
    "from sklearn import metrics\n",
    "from sklearn.model_selection import cross_val_score\n",
    "\n",
    "from sklearn.neighbors import KNeighborsClassifier\n",
    "from sklearn.tree import DecisionTreeClassifier\n",
    "from sklearn.ensemble import RandomForestClassifier\n",
    "\n",
    "import tensorflow as tf\n",
    "from tensorflow import keras\n",
    "from tensorflow.keras.models import Sequential\n",
    "from tensorflow.keras.layers import Dense, Flatten\n",
    "from tensorflow.keras.optimizers import Adam, SGD, RMSprop"
   ]
  },
  {
   "cell_type": "markdown",
   "metadata": {},
   "source": [
    "## Data processing"
   ]
  },
  {
   "cell_type": "code",
   "execution_count": 168,
   "metadata": {},
   "outputs": [],
   "source": [
    "# downloading the data\n",
    "url1 = \"https://raw.githubusercontent.com/skfp/income_analysis/main/test_data.csv\"\n",
    "url2 = \"https://raw.githubusercontent.com/skfp/income_analysis/main/train_data.csv\"\n",
    "d1 = pd.read_csv(url1, sep=\",\", header=None)\n",
    "d2 = pd.read_csv(url2, sep=\",\", header=None)\n",
    "income_data = pd.concat([d1, d2])"
   ]
  },
  {
   "cell_type": "code",
   "execution_count": 169,
   "metadata": {},
   "outputs": [],
   "source": [
    "# renaming the columns\n",
    "columns_names_dict = {\n",
    "    0: \"id\",\n",
    "    1: \"employment_sector\",\n",
    "    2: \"fnlwgt\",\n",
    "    3: \"edu\",\n",
    "    4: \"edu-num\",\n",
    "    5: \"marital_status\",\n",
    "    6: \"occupation\",\n",
    "    7: \"relation\",\n",
    "    8: \"race\",\n",
    "    9: \"sex\",\n",
    "    10: \"cap-gain\",\n",
    "    11: \"cap-loss\",\n",
    "    12: \"hours\",\n",
    "    13: \"country\",\n",
    "    14: \"income\"\n",
    "}\n",
    "income_data = income_data.rename(columns = columns_names_dict)\n",
    "# dropping columns with redundant information\n",
    "income_data = income_data.drop(['id', 'fnlwgt'], axis = 1)"
   ]
  },
  {
   "cell_type": "markdown",
   "metadata": {},
   "source": [
    "`1.` quantitative (numerical) variables: \n",
    "* edu-num,\n",
    "* cap-gain,\n",
    "* cap-loss,\n",
    "* hours\n",
    "\n",
    "`2.` qualitative (categorical) variables:\n",
    "* employment_sector,\n",
    "* edu,\n",
    "* marital_status,\n",
    "* occupation relation,\n",
    "* race,\n",
    "* sex,\n",
    "* country\n",
    "\n",
    "`3.` label:\n",
    "* income"
   ]
  },
  {
   "cell_type": "code",
   "execution_count": 170,
   "metadata": {},
   "outputs": [],
   "source": [
    "# bundling some of the categorical variables\n",
    "# also replacing values in binary columns \"sex\" and \"income\" by 0 and 1\n",
    "edu_replace_dict = {\n",
    "    \"Preschool\":\"None\",\n",
    "    \"1st-4th\":\"None\",\n",
    "    \"5th-6th\":\"None\",\n",
    "    \"7th-8th\":\"None\",\n",
    "    \"9th\":\"None\",\n",
    "    \"10th\":\"None\",\n",
    "    \"11th\":\"None\",\n",
    "    \"12th\":\"None\",\n",
    "    \"Assoc-acdm\":\"Associates\",\n",
    "    \"Assoc-voc\":\"Associates\",\n",
    "    \"HS-grad\":\"HS-graduate\",\n",
    "    \"Some-college\":\"HS-graduate\"\n",
    "}\n",
    "empl_replace_dict = {\n",
    "    \"Without-pay\":\"No-Income\",\n",
    "    \"Never-worked\":\"No-Income\", \n",
    "    \"Local-gov\":\"Gov\",\n",
    "    \"State-gov\":\"Gov\",\n",
    "    \"Federal-gov\":\"Gov\",\n",
    "    \"Self-emp-inc\":\"Self-employed\",\n",
    "    \"Self-emp-not-inc\":\"Self-employed\"\n",
    "}\n",
    "sex_replace_dict = {\n",
    "    \"Male\":1,\n",
    "    \"Female\":0\n",
    "}\n",
    "income_replace_dict = {\n",
    "    \"<=50K.\":0,\n",
    "    \"<=50K\":0,\n",
    "    \">50K.\":1,\n",
    "    \">50K\":1,\n",
    "}\n",
    "country_replace_dict = {\n",
    "    \"South\":\"NE-Asia\",\n",
    "    \"Cambodia\":\"SE-Asia\",\n",
    "    \"Canada\":\"British-Commonwealth\",\n",
    "    \"China\":\"China\",\n",
    "    \"Columbia\":\"South-America\",\n",
    "    \"Cuba\":\"Other\",\n",
    "    \"Dominican-Republic\":\"Latin-America\",\n",
    "    \"Ecuador\":\"South-America\",\n",
    "    \"El-Salvador\":\"South-America\",\n",
    "    \"England\":\"British-Commonwealth\",\n",
    "    \"France\":\"Euro_1\",\n",
    "    \"Germany\":\"Euro_1\",\n",
    "    \"Greece\":\"Euro_2\",\n",
    "    \"Guatemala\":\"Latin-America\",\n",
    "    \"Haiti\":\"Latin-America\",\n",
    "    \"Holand-Netherlands\":\"Euro_1\",\n",
    "    \"Honduras\":\"Latin-America\",\n",
    "    \"Hong\":\"British-Commonwealth\",\n",
    "    \"Hungary\":\"Euro_2\",\n",
    "    \"India\":\"British-Commonwealth\",\n",
    "    \"Iran\":\"Other\",\n",
    "    \"Ireland\":\"British-Commonwealth\",\n",
    "    \"Italy\":\"Euro_1\",\n",
    "    \"Jamaica\":\"Latin-America\",\n",
    "    \"Japan\":\"NE-Asia\",\n",
    "    \"Laos\":\"SE-Asia\",\n",
    "    \"Mexico\":\"Latin-America\",\n",
    "    \"Nicaragua\":\"Latin-America\",\n",
    "    \"Outlying-US(Guam-USVI-etc)\":\"Latin-America\",\n",
    "    \"Peru\":\"South-America\",\n",
    "    \"Philippines\":\"SE-Asia\",\n",
    "    \"Poland\":\"Euro_2\",\n",
    "    \"Portugal\":\"Euro_2\",\n",
    "    \"Puerto-Rico\":\"Latin-America\",\n",
    "    \"Scotland\":\"British-Commonwealth\",\n",
    "    \"Taiwan\":\"China\",\n",
    "    \"Thailand\":\"SE-Asia\",\n",
    "    \"Trinadad&Tobago\":\"Latin-America\",\n",
    "    \"United-States\":\"United-States\",\n",
    "    \"Vietnam\":\"SE-Asia\",\n",
    "    \"Yugoslavia\":\"Euro_2\"\n",
    "}\n",
    "occup_replace_dict = {\n",
    "    \"Adm-clerical\":'White-Collar',\n",
    "    \"Craft-repair\":'Blue-Collar',\n",
    "    'Exec-managerial':'White-Collar',\n",
    "    'Farming-fishing':'Blue-Collar',\n",
    "    'Handlers-cleaners':'Blue-Collar',\n",
    "    'Machine-op-inspct':'Blue-Collar',\n",
    "    'Other-service':'Service', \n",
    "    'Priv-house-serv':'Service',\n",
    "    'Prof-specialty':'Professional',\n",
    "    'Protective-serv':'Service',\n",
    "    'Tech-support':'Service',\n",
    "    'Transport-moving':'Blue-Collar',\n",
    "    'Unknown':'Other/Unknown',\n",
    "    'Armed-Forces':'Other/Unknown',\n",
    "    '?':'Other/Unknown'\n",
    "}\n",
    "marital_replace_dict = {\n",
    "    \"Divorced\":\"Not-married\",\n",
    "    \"Married-AF-spouse\":\"Married-absent\",\n",
    "    \"Married-civ-spouse\":\"Married\",\n",
    "    \"Married-spouse-absent\":\"Married-absent\",\n",
    "    \"Never-married\":\"Not-married\",\n",
    "    \"Separated\":\"Not-married\",\n",
    "    \"Widowed\":\"Not-married\",\n",
    "}"
   ]
  },
  {
   "cell_type": "code",
   "execution_count": 171,
   "metadata": {},
   "outputs": [],
   "source": [
    "income_data[\"edu_agg\"] = income_data[\"edu\"].replace(edu_replace_dict)\n",
    "income_data[\"sex\"] = income_data[\"sex\"].replace(sex_replace_dict) \n",
    "income_data[\"country_agg\"] = income_data[\"country\"].replace(country_replace_dict) \n",
    "income_data[\"empl_agg\"] = income_data[\"employment_sector\"].replace(empl_replace_dict)\n",
    "income_data[\"occup_agg\"] = income_data[\"occupation\"].replace(occup_replace_dict)\n",
    "income_data[\"income\"] = income_data[\"income\"].replace(income_replace_dict)\n",
    "income_data[\"marital_agg\"] = income_data[\"marital_status\"].replace(marital_replace_dict)"
   ]
  },
  {
   "cell_type": "code",
   "execution_count": 172,
   "metadata": {},
   "outputs": [],
   "source": [
    "# reseting index to avoid repeating values of index\n",
    "income_data = income_data.reset_index().drop('index', axis = 1)"
   ]
  },
  {
   "cell_type": "code",
   "execution_count": 173,
   "metadata": {},
   "outputs": [],
   "source": [
    "# transform data using one-hot encoding for 6 categorical variables\n",
    "income_data = income_data.join(pd.get_dummies(income_data.occup_agg, prefix='occup'))\n",
    "income_data = income_data.join(pd.get_dummies(income_data.empl_agg, prefix='empl'))\n",
    "income_data = income_data.join(pd.get_dummies(income_data.country_agg, prefix='country'))\n",
    "income_data = income_data.join(pd.get_dummies(income_data.marital_agg, prefix='marital'))\n",
    "\n",
    "income_data = income_data.join(pd.get_dummies(income_data.race, prefix='race'))\n",
    "income_data = income_data.join(pd.get_dummies(income_data.relation, prefix='relation'))"
   ]
  },
  {
   "cell_type": "markdown",
   "metadata": {},
   "source": [
    "## k nearest neighbours algorithm"
   ]
  },
  {
   "cell_type": "code",
   "execution_count": 174,
   "metadata": {},
   "outputs": [],
   "source": [
    "# excluding from the model columns with categorical values\n",
    "exclude_cols = ['employment_sector', 'edu', 'marital_status', 'occupation', 'relation', 'race', 'country',\n",
    "                'edu_agg', 'country_agg', 'empl_agg', 'occup_agg', 'marital_agg', 'income']\n",
    "knn_cols = [c for c in income_data.columns if c not in exclude_cols]\n",
    "# splitting dataset into training set and test set\n",
    "X_train, X_test, y_train, y_test = train_test_split(income_data[knn_cols], income_data.income, test_size=0.2)"
   ]
  },
  {
   "cell_type": "code",
   "execution_count": 175,
   "metadata": {},
   "outputs": [],
   "source": [
    "k_values = [2,3,4,5,7,10,15,20,30,50]\n",
    "acc_values = []\n",
    "\n",
    "# checking the accuracy of the models with different numbers of k parameter with 4-fold CV\n",
    "for k in k_values:\n",
    "    knn = KNeighborsClassifier(n_neighbors = k)\n",
    "    scores = cross_val_score(knn, X_train, y_train, cv = 4)\n",
    "    acc = np.mean(scores)\n",
    "    acc_values.append(acc)"
   ]
  },
  {
   "cell_type": "code",
   "execution_count": 176,
   "metadata": {},
   "outputs": [
    {
     "name": "stdout",
     "output_type": "stream",
     "text": [
      "k: 2,   Accuracy: 0.8427\n",
      "k: 3,   Accuracy: 0.8444\n",
      "k: 4,   Accuracy: 0.8519\n",
      "k: 5,   Accuracy: 0.8538\n",
      "k: 7,   Accuracy: 0.8568\n",
      "k: 10,   Accuracy: 0.8585\n",
      "k: 15,   Accuracy: 0.8594\n",
      "k: 20,   Accuracy: 0.8608\n",
      "k: 30,   Accuracy: 0.8593\n",
      "k: 50,   Accuracy: 0.8566\n"
     ]
    }
   ],
   "source": [
    "for i in range(len(k_values)):\n",
    "    print(\"k: %i,   Accuracy: %0.4f\" % (k_values[i], acc_values[i]))"
   ]
  },
  {
   "cell_type": "code",
   "execution_count": 177,
   "metadata": {},
   "outputs": [
    {
     "name": "stdout",
     "output_type": "stream",
     "text": [
      "Accuracy: 0.8571\n"
     ]
    }
   ],
   "source": [
    "# testing the model with the k parameter chosen with CV\n",
    "knn_clf = KNeighborsClassifier(n_neighbors = 20)\n",
    "\n",
    "knn_clf.fit(X_train, y_train)\n",
    "y_pred = knn_clf.predict(X_test)\n",
    "\n",
    "print(\"Accuracy: %0.4f\" % metrics.accuracy_score(y_test, y_pred))"
   ]
  },
  {
   "cell_type": "code",
   "execution_count": 178,
   "metadata": {},
   "outputs": [
    {
     "name": "stdout",
     "output_type": "stream",
     "text": [
      "Precision: 0.7785\n",
      "Recall:    0.5706\n",
      "AUC:       0.7594\n",
      "F1:        0.6585\n"
     ]
    }
   ],
   "source": [
    "print(\"Precision: %0.4f\" % metrics.precision_score(y_test, y_pred))\n",
    "print(\"Recall:    %0.4f\" % metrics.recall_score(y_test, y_pred))\n",
    "print(\"AUC:       %0.4f\" % metrics.roc_auc_score(y_test, y_pred))\n",
    "print(\"F1:        %0.4f\" % metrics.f1_score(y_test, y_pred))"
   ]
  },
  {
   "cell_type": "code",
   "execution_count": 179,
   "metadata": {},
   "outputs": [],
   "source": [
    "knn_metrics = [metrics.accuracy_score(y_test, y_pred), metrics.precision_score(y_test, y_pred),\n",
    "              metrics.recall_score(y_test, y_pred), metrics.roc_auc_score(y_test, y_pred),\n",
    "              metrics.f1_score(y_test, y_pred)]"
   ]
  },
  {
   "cell_type": "code",
   "execution_count": 180,
   "metadata": {},
   "outputs": [
    {
     "data": {
      "image/png": "[encoded data removed]",
      "text/plain": [
       "<Figure size 432x288 with 2 Axes>"
      ]
     },
     "metadata": {
      "needs_background": "light"
     },
     "output_type": "display_data"
    }
   ],
   "source": [
    "metrics.plot_confusion_matrix(knn_clf, X_test, y_test, cmap=plt.cm.Blues, values_format='d')\n",
    "plt.show()"
   ]
  },
  {
   "cell_type": "markdown",
   "metadata": {},
   "source": [
    "## Decision tree"
   ]
  },
  {
   "cell_type": "code",
   "execution_count": 181,
   "metadata": {},
   "outputs": [
    {
     "name": "stdout",
     "output_type": "stream",
     "text": [
      "[0.84041355 0.84531122 0.84203522 0.83906634]\n",
      "Accuracy: 0.8417 (+/- 0.0047)\n"
     ]
    }
   ],
   "source": [
    "dt_clf = DecisionTreeClassifier(random_state = 1)\n",
    "cvs = cross_val_score(dt_clf,X_train,y_train,cv=4)\n",
    "print(cvs)\n",
    "print(\"Accuracy: %0.4f (+/- %0.4f)\" % (cvs.mean(), cvs.std()*2))"
   ]
  },
  {
   "cell_type": "code",
   "execution_count": 182,
   "metadata": {},
   "outputs": [
    {
     "name": "stdout",
     "output_type": "stream",
     "text": [
      "max_depth: 3,   Accuracy: 0.8439\n",
      "max_depth: 4,   Accuracy: 0.8446\n",
      "max_depth: 5,   Accuracy: 0.8531\n",
      "max_depth: 7,   Accuracy: 0.8578\n",
      "max_depth: 10,   Accuracy: 0.8577\n",
      "max_depth: 15,   Accuracy: 0.8540\n",
      "max_depth: 20,   Accuracy: 0.8482\n",
      "max_depth: 40,   Accuracy: 0.8416\n"
     ]
    }
   ],
   "source": [
    "depths_list = [3, 4, 5, 7, 10, 15, 20, 40]\n",
    "acc_values = []\n",
    "for depth in depths_list:\n",
    "    dt_clf = DecisionTreeClassifier(random_state = 1, max_depth=depth)\n",
    "    scores = cross_val_score(dt_clf,X_train,y_train,cv=4)\n",
    "    acc = np.mean(scores)\n",
    "    acc_values.append(acc)\n",
    "    \n",
    "for i in range(len(depths_list)):\n",
    "    print(\"max_depth: %i,   Accuracy: %0.4f\" % (depths_list[i], acc_values[i]))"
   ]
  },
  {
   "cell_type": "code",
   "execution_count": 183,
   "metadata": {},
   "outputs": [
    {
     "name": "stdout",
     "output_type": "stream",
     "text": [
      "max_leaf_nodes: 7,   Accuracy: 0.8446\n",
      "max_leaf_nodes: 10,   Accuracy: 0.8490\n",
      "max_leaf_nodes: 15,   Accuracy: 0.8542\n",
      "max_leaf_nodes: 20,   Accuracy: 0.8560\n",
      "max_leaf_nodes: 30,   Accuracy: 0.8561\n",
      "max_leaf_nodes: 40,   Accuracy: 0.8565\n",
      "max_leaf_nodes: 50,   Accuracy: 0.8578\n",
      "max_leaf_nodes: 70,   Accuracy: 0.8586\n",
      "max_leaf_nodes: 100,   Accuracy: 0.8582\n",
      "max_leaf_nodes: 130,   Accuracy: 0.8585\n",
      "max_leaf_nodes: 150,   Accuracy: 0.8588\n"
     ]
    }
   ],
   "source": [
    "leafs_list = [7, 10, 15, 20, 30, 40, 50, 70, 100, 130, 150]\n",
    "acc_values = []\n",
    "for leaf in leafs_list:\n",
    "    dt_clf = DecisionTreeClassifier(random_state = 1, max_leaf_nodes = leaf)\n",
    "    scores = cross_val_score(dt_clf,X_train,y_train,cv=4)\n",
    "    acc = np.mean(scores)\n",
    "    acc_values.append(acc)\n",
    "    \n",
    "for i in range(len(leafs_list)):\n",
    "    print(\"max_leaf_nodes: %i,   Accuracy: %0.4f\" % (leafs_list[i], acc_values[i]))"
   ]
  },
  {
   "cell_type": "code",
   "execution_count": 184,
   "metadata": {},
   "outputs": [
    {
     "name": "stdout",
     "output_type": "stream",
     "text": [
      "Accuracy: 0.8552\n"
     ]
    }
   ],
   "source": [
    "# testing the model with the pruning parameter chosen with CV\n",
    "dt_clf = DecisionTreeClassifier(random_state = 1, max_leaf_nodes = 130)\n",
    "\n",
    "dt_clf.fit(X_train, y_train)\n",
    "y_pred = dt_clf.predict(X_test)\n",
    "\n",
    "print(\"Accuracy: %0.4f\" % metrics.accuracy_score(y_test, y_pred))"
   ]
  },
  {
   "cell_type": "code",
   "execution_count": 185,
   "metadata": {},
   "outputs": [
    {
     "name": "stdout",
     "output_type": "stream",
     "text": [
      "Precision: 0.7719\n",
      "Recall:    0.5680\n",
      "AUC:       0.7573\n",
      "F1:        0.6545\n"
     ]
    }
   ],
   "source": [
    "print(\"Precision: %0.4f\" % metrics.precision_score(y_test, y_pred))\n",
    "print(\"Recall:    %0.4f\" % metrics.recall_score(y_test, y_pred))\n",
    "print(\"AUC:       %0.4f\" % metrics.roc_auc_score(y_test, y_pred))\n",
    "print(\"F1:        %0.4f\" % metrics.f1_score(y_test, y_pred))"
   ]
  },
  {
   "cell_type": "code",
   "execution_count": 186,
   "metadata": {},
   "outputs": [],
   "source": [
    "dt_metrics = [metrics.accuracy_score(y_test, y_pred), metrics.precision_score(y_test, y_pred),\n",
    "              metrics.recall_score(y_test, y_pred), metrics.roc_auc_score(y_test, y_pred),\n",
    "              metrics.f1_score(y_test, y_pred)]"
   ]
  },
  {
   "cell_type": "code",
   "execution_count": 187,
   "metadata": {},
   "outputs": [
    {
     "data": {
      "image/png": "[encoded data removed]",
      "text/plain": [
       "<Figure size 432x288 with 2 Axes>"
      ]
     },
     "metadata": {
      "needs_background": "light"
     },
     "output_type": "display_data"
    }
   ],
   "source": [
    "metrics.plot_confusion_matrix(dt_clf, X_test, y_test, cmap=plt.cm.Blues, values_format='d')\n",
    "plt.show()"
   ]
  },
  {
   "cell_type": "markdown",
   "metadata": {},
   "source": [
    "## Random forest"
   ]
  },
  {
   "cell_type": "code",
   "execution_count": 188,
   "metadata": {},
   "outputs": [
    {
     "name": "stdout",
     "output_type": "stream",
     "text": [
      "[0.85607534 0.86271499 0.86169124 0.85667486]\n",
      "Accuracy: 0.8593 (+/- 0.0059)\n"
     ]
    }
   ],
   "source": [
    "rf_clf = RandomForestClassifier(n_estimators=100, max_leaf_nodes = 130, random_state=1)\n",
    "cvs = cross_val_score(rf_clf,X_train,y_train,cv=4)\n",
    "print(cvs)\n",
    "print(\"Accuracy: %0.4f (+/- %0.4f)\" % (cvs.mean(), cvs.std()*2))"
   ]
  },
  {
   "cell_type": "code",
   "execution_count": 189,
   "metadata": {},
   "outputs": [
    {
     "name": "stdout",
     "output_type": "stream",
     "text": [
      "[0.85576825 0.86179361 0.86199836 0.85718673]\n",
      "Accuracy: 0.8592 (+/- 0.0055)\n"
     ]
    }
   ],
   "source": [
    "rf_clf = RandomForestClassifier(n_estimators=50, max_leaf_nodes = 130, random_state=1)\n",
    "cvs = cross_val_score(rf_clf,X_train,y_train,cv=4)\n",
    "print(cvs)\n",
    "print(\"Accuracy: %0.4f (+/- %0.4f)\" % (cvs.mean(), cvs.std()*2))"
   ]
  },
  {
   "cell_type": "code",
   "execution_count": 190,
   "metadata": {
    "scrolled": true
   },
   "outputs": [
    {
     "name": "stdout",
     "output_type": "stream",
     "text": [
      "Accuracy: 0.8543\n"
     ]
    }
   ],
   "source": [
    "# testing the model with the pruning parameter chosen with CV\n",
    "rf_clf = RandomForestClassifier(n_estimators=50, max_leaf_nodes = 130, random_state=1)\n",
    "\n",
    "rf_clf.fit(X_train, y_train)\n",
    "y_pred = rf_clf.predict(X_test)\n",
    "\n",
    "print(\"Accuracy: %0.4f\" % metrics.accuracy_score(y_test, y_pred))"
   ]
  },
  {
   "cell_type": "code",
   "execution_count": 191,
   "metadata": {},
   "outputs": [
    {
     "name": "stdout",
     "output_type": "stream",
     "text": [
      "Precision: 0.7925\n",
      "Recall:    0.5375\n",
      "AUC:       0.7464\n",
      "F1:        0.6406\n"
     ]
    }
   ],
   "source": [
    "print(\"Precision: %0.4f\" % metrics.precision_score(y_test, y_pred))\n",
    "print(\"Recall:    %0.4f\" % metrics.recall_score(y_test, y_pred))\n",
    "print(\"AUC:       %0.4f\" % metrics.roc_auc_score(y_test, y_pred))\n",
    "print(\"F1:        %0.4f\" % metrics.f1_score(y_test, y_pred))"
   ]
  },
  {
   "cell_type": "code",
   "execution_count": 192,
   "metadata": {},
   "outputs": [],
   "source": [
    "rf_metrics = [metrics.accuracy_score(y_test, y_pred), metrics.precision_score(y_test, y_pred),\n",
    "              metrics.recall_score(y_test, y_pred), metrics.roc_auc_score(y_test, y_pred),\n",
    "              metrics.f1_score(y_test, y_pred)]"
   ]
  },
  {
   "cell_type": "code",
   "execution_count": 193,
   "metadata": {},
   "outputs": [
    {
     "data": {
      "image/png": "[encoded data removed]",
      "text/plain": [
       "<Figure size 432x288 with 2 Axes>"
      ]
     },
     "metadata": {
      "needs_background": "light"
     },
     "output_type": "display_data"
    }
   ],
   "source": [
    "metrics.plot_confusion_matrix(rf_clf, X_test, y_test, cmap=plt.cm.Blues, values_format='d')\n",
    "plt.show()"
   ]
  },
  {
   "cell_type": "markdown",
   "metadata": {},
   "source": [
    "## Neural network"
   ]
  },
  {
   "cell_type": "code",
   "execution_count": 194,
   "metadata": {},
   "outputs": [],
   "source": [
    "# transform label column to the format accepted by \n",
    "y_train = tf.one_hot(y_train, depth = 2)"
   ]
  },
  {
   "cell_type": "code",
   "execution_count": 195,
   "metadata": {
    "scrolled": true
   },
   "outputs": [
    {
     "name": "stdout",
     "output_type": "stream",
     "text": [
      "Epoch 1/30\n",
      "1222/1222 [==============================] - 2s 1ms/step - loss: 2.7523 - accuracy: 0.8060\n",
      "Epoch 2/30\n",
      "1222/1222 [==============================] - 2s 1ms/step - loss: 1.4629 - accuracy: 0.8238\n",
      "Epoch 3/30\n",
      "1222/1222 [==============================] - 2s 1ms/step - loss: 1.2500 - accuracy: 0.8284\n",
      "Epoch 4/30\n",
      "1222/1222 [==============================] - 2s 1ms/step - loss: 1.1160 - accuracy: 0.8304\n",
      "Epoch 5/30\n",
      "1222/1222 [==============================] - 2s 1ms/step - loss: 1.0734 - accuracy: 0.8317\n",
      "Epoch 6/30\n",
      "1222/1222 [==============================] - 2s 2ms/step - loss: 0.9178 - accuracy: 0.8328\n",
      "Epoch 7/30\n",
      "1222/1222 [==============================] - 2s 1ms/step - loss: 0.7785 - accuracy: 0.8345\n",
      "Epoch 8/30\n",
      "1222/1222 [==============================] - 2s 1ms/step - loss: 0.7650 - accuracy: 0.8343\n",
      "Epoch 9/30\n",
      "1222/1222 [==============================] - 2s 1ms/step - loss: 0.7004 - accuracy: 0.8375\n",
      "Epoch 10/30\n",
      "1222/1222 [==============================] - 2s 2ms/step - loss: 0.6178 - accuracy: 0.8380\n",
      "Epoch 11/30\n",
      "1222/1222 [==============================] - 3s 2ms/step - loss: 0.5622 - accuracy: 0.8382\n",
      "Epoch 12/30\n",
      "1222/1222 [==============================] - 2s 2ms/step - loss: 0.5374 - accuracy: 0.8389\n",
      "Epoch 13/30\n",
      "1222/1222 [==============================] - 2s 1ms/step - loss: 0.5235 - accuracy: 0.8389\n",
      "Epoch 14/30\n",
      "1222/1222 [==============================] - 2s 1ms/step - loss: 0.4690 - accuracy: 0.8396\n",
      "Epoch 15/30\n",
      "1222/1222 [==============================] - 3s 2ms/step - loss: 0.4549 - accuracy: 0.8413\n",
      "Epoch 16/30\n",
      "1222/1222 [==============================] - 2s 1ms/step - loss: 0.4253 - accuracy: 0.8423\n",
      "Epoch 17/30\n",
      "1222/1222 [==============================] - 2s 2ms/step - loss: 0.4094 - accuracy: 0.8417: \n",
      "Epoch 18/30\n",
      "1222/1222 [==============================] - 2s 1ms/step - loss: 0.3983 - accuracy: 0.8435\n",
      "Epoch 19/30\n",
      "1222/1222 [==============================] - 2s 1ms/step - loss: 0.3544 - accuracy: 0.8451\n",
      "Epoch 20/30\n",
      "1222/1222 [==============================] - 2s 1ms/step - loss: 0.3465 - accuracy: 0.8444\n",
      "Epoch 21/30\n",
      "1222/1222 [==============================] - 2s 1ms/step - loss: 0.3500 - accuracy: 0.8444\n",
      "Epoch 22/30\n",
      "1222/1222 [==============================] - 2s 1ms/step - loss: 0.3467 - accuracy: 0.8447\n",
      "Epoch 23/30\n",
      "1222/1222 [==============================] - 2s 1ms/step - loss: 0.3482 - accuracy: 0.8450\n",
      "Epoch 24/30\n",
      "1222/1222 [==============================] - 2s 1ms/step - loss: 0.3503 - accuracy: 0.8440\n",
      "Epoch 25/30\n",
      "1222/1222 [==============================] - 2s 1ms/step - loss: 0.3466 - accuracy: 0.8453\n",
      "Epoch 26/30\n",
      "1222/1222 [==============================] - 2s 1ms/step - loss: 0.3439 - accuracy: 0.8449\n",
      "Epoch 27/30\n",
      "1222/1222 [==============================] - 2s 1ms/step - loss: 0.3536 - accuracy: 0.8440\n",
      "Epoch 28/30\n",
      "1222/1222 [==============================] - 2s 1ms/step - loss: 0.3529 - accuracy: 0.8458\n",
      "Epoch 29/30\n",
      "1222/1222 [==============================] - 2s 1ms/step - loss: 0.3472 - accuracy: 0.8461\n",
      "Epoch 30/30\n",
      "1222/1222 [==============================] - 2s 1ms/step - loss: 0.3445 - accuracy: 0.8455\n"
     ]
    }
   ],
   "source": [
    "# training a neural network\n",
    "nn_clf = Sequential()\n",
    "\n",
    "nn_clf.add(Dense(units = 41, activation = 'relu'))\n",
    "nn_clf.add(Dense(units = 2 , activation = 'sigmoid'))\n",
    "\n",
    "nn_clf.compile(optimizer = RMSprop(learning_rate=0.0025), loss = 'binary_crossentropy', metrics = ['accuracy'])\n",
    "\n",
    "nn_clf.fit(X_train, y_train, epochs = 30)\n",
    "\n",
    "y_pred = nn_clf.predict(X_test)\n",
    "rounded_predictions = np.argmax(y_pred, axis=1)\n",
    "y_pred = (y_pred > 0.5)"
   ]
  },
  {
   "cell_type": "code",
   "execution_count": 196,
   "metadata": {},
   "outputs": [
    {
     "name": "stdout",
     "output_type": "stream",
     "text": [
      "Accuracy: 0.8442\n"
     ]
    }
   ],
   "source": [
    "print(\"Accuracy: %0.4f\" % metrics.accuracy_score(y_test, rounded_predictions))"
   ]
  },
  {
   "cell_type": "code",
   "execution_count": 197,
   "metadata": {
    "scrolled": true
   },
   "outputs": [
    {
     "name": "stdout",
     "output_type": "stream",
     "text": [
      "Precision: 0.7119\n",
      "Recall:    0.5960\n",
      "AUC:       0.7596\n",
      "F1:        0.6488\n"
     ]
    }
   ],
   "source": [
    "print(\"Precision: %0.4f\" % metrics.precision_score(y_test, rounded_predictions))\n",
    "print(\"Recall:    %0.4f\" % metrics.recall_score(y_test, rounded_predictions))\n",
    "print(\"AUC:       %0.4f\" % metrics.roc_auc_score(y_test, rounded_predictions))\n",
    "print(\"F1:        %0.4f\" % metrics.f1_score(y_test, rounded_predictions))"
   ]
  },
  {
   "cell_type": "code",
   "execution_count": 198,
   "metadata": {},
   "outputs": [],
   "source": [
    "nn_metrics = [metrics.accuracy_score(y_test, rounded_predictions), metrics.precision_score(y_test, rounded_predictions),\n",
    "              metrics.recall_score(y_test, rounded_predictions), metrics.roc_auc_score(y_test, rounded_predictions),\n",
    "              metrics.f1_score(y_test, rounded_predictions)]"
   ]
  },
  {
   "cell_type": "code",
   "execution_count": 199,
   "metadata": {},
   "outputs": [],
   "source": [
    "def plot_cm(cm, classes, normalize=False, title='Confusion matrix', cmap=plt.cm.Blues):\n",
    "    \"\"\"\n",
    "    This function prints and plots the confusion matrix.\n",
    "    Normalization can be applied by setting `normalize=True`.\n",
    "    \"\"\"\n",
    "    plt.imshow(cm, interpolation='nearest', cmap=cmap)\n",
    "    plt.title(title)\n",
    "    plt.colorbar()\n",
    "    tick_marks = np.arange(len(classes))\n",
    "    plt.xticks(tick_marks, classes)\n",
    "    plt.yticks(tick_marks, classes)\n",
    "\n",
    "    if normalize:\n",
    "        cm = cm.astype('float') / cm.sum(axis=1)[:, np.newaxis]\n",
    "        print(\"Normalized confusion matrix\")\n",
    "    else:\n",
    "        print('Confusion matrix, without normalization')\n",
    "\n",
    "#     print(cm)\n",
    "\n",
    "    thresh = cm.max() / 2.\n",
    "    for i, j in itertools.product(range(cm.shape[0]), range(cm.shape[1])):\n",
    "        plt.text(j, i, cm[i, j], position=(j-0.08, 0.25 + i/2),\n",
    "#             horizontalalignment=\"center\",\n",
    "            color=\"white\" if cm[i, j] > thresh else \"black\")\n",
    "\n",
    "    plt.tight_layout()\n",
    "    plt.ylabel('True label')\n",
    "    plt.xlabel('Predicted label')"
   ]
  },
  {
   "cell_type": "code",
   "execution_count": 200,
   "metadata": {
    "scrolled": true
   },
   "outputs": [
    {
     "name": "stdout",
     "output_type": "stream",
     "text": [
      "Confusion matrix, without normalization\n"
     ]
    },
    {
     "data": {
      "image/png": "[encoded data removed]",
      "text/plain": [
       "<Figure size 432x288 with 2 Axes>"
      ]
     },
     "metadata": {
      "needs_background": "light"
     },
     "output_type": "display_data"
    }
   ],
   "source": [
    "cm = metrics.confusion_matrix(y_true=y_test, y_pred=rounded_predictions)\n",
    "plot_cm(cm=cm, classes=[0,1], title='Confusion matrix')\n",
    "plt.show()"
   ]
  },
  {
   "cell_type": "markdown",
   "metadata": {},
   "source": [
    "## Summary"
   ]
  },
  {
   "cell_type": "code",
   "execution_count": 201,
   "metadata": {},
   "outputs": [
    {
     "name": "stdout",
     "output_type": "stream",
     "text": [
      "      ACC  Precision Recall   AUC     F1\n",
      "KNN: 85.7%   77.8%   57.1%   75.9%   65.9%\n",
      "DT:  85.5%   77.2%   56.8%   75.7%   65.4%\n",
      "RF:  85.4%   79.2%   53.8%   74.6%   64.1%\n",
      "NN:  84.4%   71.2%   59.6%   76.0%   64.9%\n"
     ]
    }
   ],
   "source": [
    "# Displaying metrics for all 4 models\n",
    "print(\"      ACC  Precision Recall   AUC     F1\")\n",
    "print(\"KNN: %0.1f%%   %0.1f%%   %0.1f%%   %0.1f%%   %0.1f%%\" % tuple([100*v for v in knn_metrics]))\n",
    "print(\"DT:  %0.1f%%   %0.1f%%   %0.1f%%   %0.1f%%   %0.1f%%\" % tuple([100*v for v in dt_metrics]))\n",
    "print(\"RF:  %0.1f%%   %0.1f%%   %0.1f%%   %0.1f%%   %0.1f%%\" % tuple([100*v for v in rf_metrics]))\n",
    "print(\"NN:  %0.1f%%   %0.1f%%   %0.1f%%   %0.1f%%   %0.1f%%\" % tuple([100*v for v in nn_metrics]))"
   ]
  },
  {
   "cell_type": "markdown",
   "metadata": {},
   "source": [
    "The decision tree model has the highest accuracy. The models using $k$ nearest neighbours and random forest were only slightly worse. The neural network might work better with this data with different parameters or network architecture. Random forest model has the highest precision, but has lower recall than KNN and decision tree."
   ]
  }
 ],
 "metadata": {
  "kernelspec": {
   "display_name": "Python 3",
   "language": "python",
   "name": "python3"
  },
  "language_info": {
   "codemirror_mode": {
    "name": "ipython",
    "version": 3
   },
   "file_extension": ".py",
   "mimetype": "text/x-python",
   "name": "python",
   "nbconvert_exporter": "python",
   "pygments_lexer": "ipython3",
   "version": "3.7.4"
  }
 },
 "nbformat": 4,
 "nbformat_minor": 2
}
